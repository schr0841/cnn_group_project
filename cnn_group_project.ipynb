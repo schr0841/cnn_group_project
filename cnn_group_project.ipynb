{
 "cells": [
  {
   "cell_type": "markdown",
   "metadata": {},
   "source": [
    "# Convolutional Neural Network Image Classification Project"
   ]
  },
  {
   "cell_type": "code",
   "execution_count": 10,
   "metadata": {},
   "outputs": [],
   "source": [
    "# Import our dependencies\n",
    "import pandas as pd\n",
    "import matplotlib.pyplot as plt\n",
    "import sklearn as skl\n",
    "import tensorflow as tf\n",
    "import os\n",
    "from tensorflow import keras\n",
    "from tensorflow.keras import Sequential\n",
    "from tensorflow.keras.layers import Dense,Conv2D,MaxPooling2D,Flatten,Dropout\n",
    "from tensorflow.keras.preprocessing.image import ImageDataGenerator"
   ]
  },
  {
   "cell_type": "markdown",
   "metadata": {},
   "source": [
    "## Generate a tf.data.Dataset"
   ]
  },
  {
   "cell_type": "code",
   "execution_count": 4,
   "metadata": {},
   "outputs": [],
   "source": [
    "base_dir = 'Data/'\n",
    "train_dir = os.path.join(base_dir, 'train')\n",
    "test_dir = os.path.join(base_dir, 'test')\n",
    "valid_dir = os.path.join(base_dir, 'valid')"
   ]
  },
  {
   "cell_type": "markdown",
   "metadata": {},
   "source": [
    "### List the folders to see their arrangement"
   ]
  },
  {
   "cell_type": "code",
   "execution_count": 5,
   "metadata": {},
   "outputs": [
    {
     "data": {
      "text/plain": [
       "['test', 'train', 'valid']"
      ]
     },
     "execution_count": 5,
     "metadata": {},
     "output_type": "execute_result"
    }
   ],
   "source": [
    "os.listdir(base_dir)"
   ]
  },
  {
   "cell_type": "markdown",
   "metadata": {},
   "source": [
    "### Create train, test and validation datasets"
   ]
  },
  {
   "cell_type": "code",
   "execution_count": 6,
   "metadata": {},
   "outputs": [
    {
     "name": "stdout",
     "output_type": "stream",
     "text": [
      "Found 613 files belonging to 4 classes.\n"
     ]
    }
   ],
   "source": [
    "training_set = tf.keras.preprocessing.image_dataset_from_directory(\n",
    "train_dir,\n",
    "seed=101,\n",
    "image_size=(200, 200),\n",
    "batch_size=32)"
   ]
  },
  {
   "cell_type": "code",
   "execution_count": 7,
   "metadata": {},
   "outputs": [
    {
     "name": "stdout",
     "output_type": "stream",
     "text": [
      "Found 315 files belonging to 4 classes.\n"
     ]
    }
   ],
   "source": [
    "testing_set = tf.keras.preprocessing.image_dataset_from_directory(\n",
    "test_dir,\n",
    "seed=101,\n",
    "image_size=(200, 200),\n",
    "batch_size=32)"
   ]
  },
  {
   "cell_type": "code",
   "execution_count": 8,
   "metadata": {},
   "outputs": [
    {
     "name": "stdout",
     "output_type": "stream",
     "text": [
      "Found 72 files belonging to 4 classes.\n"
     ]
    }
   ],
   "source": [
    "valid_set = tf.keras.preprocessing.image_dataset_from_directory(\n",
    "valid_dir,\n",
    "seed=101,\n",
    "image_size=(200, 200),\n",
    "batch_size=32)"
   ]
  },
  {
   "cell_type": "markdown",
   "metadata": {},
   "source": [
    "## Early Stopping"
   ]
  },
  {
   "cell_type": "code",
   "execution_count": 17,
   "metadata": {},
   "outputs": [],
   "source": [
    "from tensorflow.keras.callbacks import EarlyStopping\n",
    "callbacks = [\n",
    "             EarlyStopping(patience=20)\n",
    "]"
   ]
  },
  {
   "cell_type": "markdown",
   "metadata": {},
   "source": [
    "## Data Augmentation"
   ]
  },
  {
   "cell_type": "code",
   "execution_count": 9,
   "metadata": {},
   "outputs": [
    {
     "name": "stdout",
     "output_type": "stream",
     "text": [
      "WARNING:tensorflow:From c:\\Users\\schre\\anaconda3\\envs\\dev\\lib\\site-packages\\keras\\src\\backend.py:873: The name tf.get_default_graph is deprecated. Please use tf.compat.v1.get_default_graph instead.\n",
      "\n"
     ]
    }
   ],
   "source": [
    "data_augmentation = tf.keras.Sequential(\n",
    "  [tf.keras.layers.experimental.preprocessing.RandomFlip(\"horizontal\",input_shape=(200,200,3)),\n",
    "    tf.keras.layers.experimental.preprocessing.RandomRotation(0.2),\n",
    "    tf.keras.layers.experimental.preprocessing.RandomZoom(0.2),]\n",
    ")"
   ]
  },
  {
   "cell_type": "markdown",
   "metadata": {},
   "source": [
    "## Build CNN"
   ]
  },
  {
   "cell_type": "code",
   "execution_count": 11,
   "metadata": {},
   "outputs": [
    {
     "name": "stdout",
     "output_type": "stream",
     "text": [
      "WARNING:tensorflow:From c:\\Users\\schre\\anaconda3\\envs\\dev\\lib\\site-packages\\keras\\src\\layers\\pooling\\max_pooling2d.py:161: The name tf.nn.max_pool is deprecated. Please use tf.nn.max_pool2d instead.\n",
      "\n"
     ]
    }
   ],
   "source": [
    "model = Sequential([\n",
    "    data_augmentation,\n",
    "    tf.keras.layers.experimental.preprocessing.Rescaling(1./255),\n",
    "    Conv2D(filters=32,kernel_size=(3,3), activation='relu'),\n",
    "    MaxPooling2D(pool_size=(2,2)),\n",
    "\n",
    "    Conv2D(filters=32,kernel_size=(3,3), activation='relu'),\n",
    "    MaxPooling2D(pool_size=(2,2)),\n",
    "    Dropout(0.25),\n",
    "\n",
    "    Conv2D(filters=64,kernel_size=(3,3), activation='relu'),\n",
    "    MaxPooling2D(pool_size=(2,2)),\n",
    "    Dropout(0.25),\n",
    "\n",
    "    Flatten(),\n",
    "    Dense(128, activation='relu'),\n",
    "    Dropout(0.25),\n",
    "    Dense(1, activation='softmax')\n",
    "])"
   ]
  },
  {
   "cell_type": "markdown",
   "metadata": {},
   "source": [
    "### Compile Model"
   ]
  },
  {
   "cell_type": "code",
   "execution_count": 28,
   "metadata": {},
   "outputs": [],
   "source": [
    "model.compile(optimizer='adam',\n",
    "              #loss=keras.losses.BinaryCrossentropy(from_logits=True),\n",
    "              #loss=keras.losses.CategoricalCrossentropy(),\n",
    "              loss=keras.losses.mse,\n",
    "              metrics=[keras.metrics.Accuracy()])"
   ]
  },
  {
   "cell_type": "markdown",
   "metadata": {},
   "source": [
    "### Train the model"
   ]
  },
  {
   "cell_type": "code",
   "execution_count": 29,
   "metadata": {},
   "outputs": [
    {
     "name": "stdout",
     "output_type": "stream",
     "text": [
      "Epoch 1/600\n",
      "20/20 [==============================] - 3s 106ms/step - loss: 1.5710 - accuracy: 0.1876 - val_loss: 1.3333 - val_accuracy: 0.2917\n",
      "Epoch 2/600\n",
      "20/20 [==============================] - 2s 103ms/step - loss: 1.5710 - accuracy: 0.1876 - val_loss: 1.3333 - val_accuracy: 0.2917\n",
      "Epoch 3/600\n",
      "20/20 [==============================] - 2s 106ms/step - loss: 1.5710 - accuracy: 0.1876 - val_loss: 1.3333 - val_accuracy: 0.2917\n",
      "Epoch 4/600\n",
      "20/20 [==============================] - 2s 102ms/step - loss: 1.5710 - accuracy: 0.1876 - val_loss: 1.3333 - val_accuracy: 0.2917\n",
      "Epoch 5/600\n",
      "20/20 [==============================] - 2s 102ms/step - loss: 1.5710 - accuracy: 0.1876 - val_loss: 1.3333 - val_accuracy: 0.2917\n",
      "Epoch 6/600\n",
      "20/20 [==============================] - 2s 103ms/step - loss: 1.5710 - accuracy: 0.1876 - val_loss: 1.3333 - val_accuracy: 0.2917\n",
      "Epoch 7/600\n",
      "20/20 [==============================] - 2s 102ms/step - loss: 1.5710 - accuracy: 0.1876 - val_loss: 1.3333 - val_accuracy: 0.2917\n",
      "Epoch 8/600\n",
      "20/20 [==============================] - 2s 103ms/step - loss: 1.5710 - accuracy: 0.1876 - val_loss: 1.3333 - val_accuracy: 0.2917\n",
      "Epoch 9/600\n",
      "20/20 [==============================] - 2s 103ms/step - loss: 1.5710 - accuracy: 0.1876 - val_loss: 1.3333 - val_accuracy: 0.2917\n",
      "Epoch 10/600\n",
      "20/20 [==============================] - 2s 102ms/step - loss: 1.5710 - accuracy: 0.1876 - val_loss: 1.3333 - val_accuracy: 0.2917\n",
      "Epoch 11/600\n",
      "20/20 [==============================] - 2s 104ms/step - loss: 1.5710 - accuracy: 0.1876 - val_loss: 1.3333 - val_accuracy: 0.2917\n",
      "Epoch 12/600\n",
      "20/20 [==============================] - 2s 103ms/step - loss: 1.5710 - accuracy: 0.1876 - val_loss: 1.3333 - val_accuracy: 0.2917\n",
      "Epoch 13/600\n",
      "20/20 [==============================] - 2s 103ms/step - loss: 1.5710 - accuracy: 0.1876 - val_loss: 1.3333 - val_accuracy: 0.2917\n",
      "Epoch 14/600\n",
      "20/20 [==============================] - 2s 103ms/step - loss: 1.5710 - accuracy: 0.1876 - val_loss: 1.3333 - val_accuracy: 0.2917\n",
      "Epoch 15/600\n",
      "20/20 [==============================] - 2s 104ms/step - loss: 1.5710 - accuracy: 0.1876 - val_loss: 1.3333 - val_accuracy: 0.2917\n",
      "Epoch 16/600\n",
      "20/20 [==============================] - 2s 104ms/step - loss: 1.5710 - accuracy: 0.1876 - val_loss: 1.3333 - val_accuracy: 0.2917\n",
      "Epoch 17/600\n",
      "20/20 [==============================] - 2s 105ms/step - loss: 1.5710 - accuracy: 0.1876 - val_loss: 1.3333 - val_accuracy: 0.2917\n",
      "Epoch 18/600\n",
      "20/20 [==============================] - 2s 105ms/step - loss: 1.5710 - accuracy: 0.1876 - val_loss: 1.3333 - val_accuracy: 0.2917\n",
      "Epoch 19/600\n",
      "20/20 [==============================] - 2s 105ms/step - loss: 1.5710 - accuracy: 0.1876 - val_loss: 1.3333 - val_accuracy: 0.2917\n",
      "Epoch 20/600\n",
      "20/20 [==============================] - 2s 106ms/step - loss: 1.5710 - accuracy: 0.1876 - val_loss: 1.3333 - val_accuracy: 0.2917\n",
      "Epoch 21/600\n",
      "20/20 [==============================] - 2s 103ms/step - loss: 1.5710 - accuracy: 0.1876 - val_loss: 1.3333 - val_accuracy: 0.2917\n"
     ]
    }
   ],
   "source": [
    "history = model.fit(training_set,validation_data=valid_set, epochs=600,callbacks=callbacks)"
   ]
  }
 ],
 "metadata": {
  "kernelspec": {
   "display_name": "dev",
   "language": "python",
   "name": "python3"
  },
  "language_info": {
   "codemirror_mode": {
    "name": "ipython",
    "version": 3
   },
   "file_extension": ".py",
   "mimetype": "text/x-python",
   "name": "python",
   "nbconvert_exporter": "python",
   "pygments_lexer": "ipython3",
   "version": "3.10.13"
  }
 },
 "nbformat": 4,
 "nbformat_minor": 2
}
